{
 "cells": [
  {
   "cell_type": "code",
   "execution_count": 3,
   "id": "2635cd88-950c-46bf-870b-5f7ba23c1d15",
   "metadata": {},
   "outputs": [],
   "source": [
    "##1"
   ]
  },
  {
   "cell_type": "code",
   "execution_count": 4,
   "id": "0987355b-753d-426a-a173-0f53f345b3d5",
   "metadata": {},
   "outputs": [
    {
     "data": {
      "text/plain": [
       "\"An exception is an event that occurs during the execution of a program that disrupts the normal flow of the program's instructions. When an exception occurs, the program stops executing its current sequence of statements and jumps to a specific block of code that can handle the exception.\""
      ]
     },
     "execution_count": 4,
     "metadata": {},
     "output_type": "execute_result"
    }
   ],
   "source": [
    "\"\"\"An exception is an event that occurs during the execution of a program that disrupts the normal flow of the program's instructions. When an exception occurs, the program stops executing its current sequence of statements and jumps to a specific block of code that can handle the exception.\"\"\""
   ]
  },
  {
   "cell_type": "code",
   "execution_count": 5,
   "id": "8389bc3c-4663-4922-ad3d-0a3b6bc53535",
   "metadata": {},
   "outputs": [
    {
     "data": {
      "text/plain": [
       "\"Syntax Error: A syntax error occurs when the Python interpreter encounters code that violates the language's grammar rules. It happens due to incorrect syntax or a mistake in the structure of the code. Syntax errors prevent the code from being executed and are detected by the interpreter during the parsing phase, before the program starts running. \\n\\nException: An exception, on the other hand, occurs during the execution of a program when an unexpected or exceptional condition arises. Exceptions are not detected by the interpreter during the parsing phase, but rather during the runtime of the program. They are caused by various factors such as invalid input, division by zero, accessing undefined variables, or problems with external resources like files or network connections.\""
      ]
     },
     "execution_count": 5,
     "metadata": {},
     "output_type": "execute_result"
    }
   ],
   "source": [
    "\"\"\"Syntax Error: A syntax error occurs when the Python interpreter encounters code that violates the language's grammar rules. It happens due to incorrect syntax or a mistake in the structure of the code. Syntax errors prevent the code from being executed and are detected by the interpreter during the parsing phase, before the program starts running. \n",
    "\n",
    "Exception: An exception, on the other hand, occurs during the execution of a program when an unexpected or exceptional condition arises. Exceptions are not detected by the interpreter during the parsing phase, but rather during the runtime of the program. They are caused by various factors such as invalid input, division by zero, accessing undefined variables, or problems with external resources like files or network connections.\"\"\""
   ]
  },
  {
   "cell_type": "code",
   "execution_count": 6,
   "id": "8e0ce549-6494-4509-bf94-7f40555900c1",
   "metadata": {},
   "outputs": [],
   "source": [
    "##2"
   ]
  },
  {
   "cell_type": "code",
   "execution_count": 7,
   "id": "7e1cb559-6f83-464a-962f-35b4944d9207",
   "metadata": {},
   "outputs": [
    {
     "data": {
      "text/plain": [
       "'When an exception is not handled in Python, it results in the program terminating abruptly and displaying an error message known as a traceback. The traceback provides information about the type of exception, the line of code where the exception occurred, and the sequence of function calls that led to the exception.'"
      ]
     },
     "execution_count": 7,
     "metadata": {},
     "output_type": "execute_result"
    }
   ],
   "source": [
    "\"\"\"When an exception is not handled in Python, it results in the program terminating abruptly and displaying an error message known as a traceback. The traceback provides information about the type of exception, the line of code where the exception occurred, and the sequence of function calls that led to the exception.\"\"\""
   ]
  },
  {
   "cell_type": "code",
   "execution_count": 8,
   "id": "7796fb6a-94a1-4e09-9526-f6863b28ac05",
   "metadata": {},
   "outputs": [
    {
     "ename": "ZeroDivisionError",
     "evalue": "division by zero",
     "output_type": "error",
     "traceback": [
      "\u001b[0;31m---------------------------------------------------------------------------\u001b[0m",
      "\u001b[0;31mZeroDivisionError\u001b[0m                         Traceback (most recent call last)",
      "Cell \u001b[0;32mIn[8], line 4\u001b[0m\n\u001b[1;32m      1\u001b[0m \u001b[38;5;28;01mdef\u001b[39;00m \u001b[38;5;21mdivide\u001b[39m(a, b):\n\u001b[1;32m      2\u001b[0m     \u001b[38;5;28;01mreturn\u001b[39;00m a \u001b[38;5;241m/\u001b[39m b\n\u001b[0;32m----> 4\u001b[0m result \u001b[38;5;241m=\u001b[39m \u001b[43mdivide\u001b[49m\u001b[43m(\u001b[49m\u001b[38;5;241;43m10\u001b[39;49m\u001b[43m,\u001b[49m\u001b[43m \u001b[49m\u001b[38;5;241;43m0\u001b[39;49m\u001b[43m)\u001b[49m\n\u001b[1;32m      5\u001b[0m \u001b[38;5;28mprint\u001b[39m(result)\n",
      "Cell \u001b[0;32mIn[8], line 2\u001b[0m, in \u001b[0;36mdivide\u001b[0;34m(a, b)\u001b[0m\n\u001b[1;32m      1\u001b[0m \u001b[38;5;28;01mdef\u001b[39;00m \u001b[38;5;21mdivide\u001b[39m(a, b):\n\u001b[0;32m----> 2\u001b[0m     \u001b[38;5;28;01mreturn\u001b[39;00m \u001b[43ma\u001b[49m\u001b[43m \u001b[49m\u001b[38;5;241;43m/\u001b[39;49m\u001b[43m \u001b[49m\u001b[43mb\u001b[49m\n",
      "\u001b[0;31mZeroDivisionError\u001b[0m: division by zero"
     ]
    }
   ],
   "source": [
    "def divide(a, b):\n",
    "    return a / b\n",
    "\n",
    "result = divide(10, 0)\n",
    "print(result)"
   ]
  },
  {
   "cell_type": "code",
   "execution_count": 9,
   "id": "80b4c8a8-24de-428a-b232-a1b712014ed9",
   "metadata": {},
   "outputs": [],
   "source": [
    "##3"
   ]
  },
  {
   "cell_type": "code",
   "execution_count": 10,
   "id": "4f645a0a-0f2e-4dfd-a9aa-dcfe55670ddc",
   "metadata": {},
   "outputs": [
    {
     "data": {
      "text/plain": [
       "'In Python, the try-except statement is used to catch and handle exceptions. The try block contains the code that may potentially raise an exception, and the except block specifies the code to be executed when a specific exception occurs.'"
      ]
     },
     "execution_count": 10,
     "metadata": {},
     "output_type": "execute_result"
    }
   ],
   "source": [
    "\"\"\"In Python, the try-except statement is used to catch and handle exceptions. The try block contains the code that may potentially raise an exception, and the except block specifies the code to be executed when a specific exception occurs.\"\"\""
   ]
  },
  {
   "cell_type": "code",
   "execution_count": 11,
   "id": "dd6950b0-6964-446f-be36-5ce508bd00c2",
   "metadata": {},
   "outputs": [
    {
     "name": "stdin",
     "output_type": "stream",
     "text": [
      "Enter a number:  33\n",
      "Enter another number:  45\n"
     ]
    },
    {
     "name": "stdout",
     "output_type": "stream",
     "text": [
      "Result: 0.7333333333333333\n"
     ]
    }
   ],
   "source": [
    "try:\n",
    "    num1 = int(input(\"Enter a number: \"))\n",
    "    num2 = int(input(\"Enter another number: \"))\n",
    "    result = num1 / num2\n",
    "    print(\"Result:\", result)\n",
    "except ValueError:\n",
    "    print(\"Invalid input. Please enter a valid number.\")\n",
    "except ZeroDivisionError:\n",
    "    print(\"Error: Division by zero is not allowed.\")\n"
   ]
  },
  {
   "cell_type": "code",
   "execution_count": 12,
   "id": "aba2d661-acbd-4592-ae2f-bc63f78ff144",
   "metadata": {},
   "outputs": [],
   "source": [
    "##4"
   ]
  },
  {
   "cell_type": "code",
   "execution_count": 13,
   "id": "f9659769-4539-4141-b70b-bf9f2d299dc2",
   "metadata": {},
   "outputs": [],
   "source": [
    "##a"
   ]
  },
  {
   "cell_type": "code",
   "execution_count": 14,
   "id": "2bbeb8b5-b6d6-4125-bc6b-ff6ad936e27c",
   "metadata": {},
   "outputs": [
    {
     "data": {
      "text/plain": [
       "'In Python, the try and else statements work together to handle exceptions and execute code that should run only if no exception occurs within the try block. The else block is optional and follows the except block(s) in a try-except structure.'"
      ]
     },
     "execution_count": 14,
     "metadata": {},
     "output_type": "execute_result"
    }
   ],
   "source": [
    "\"\"\"In Python, the try and else statements work together to handle exceptions and execute code that should run only if no exception occurs within the try block. The else block is optional and follows the except block(s) in a try-except structure.\"\"\""
   ]
  },
  {
   "cell_type": "code",
   "execution_count": 15,
   "id": "76ec0f98-d6db-4f99-85e8-be6783ec2e42",
   "metadata": {},
   "outputs": [
    {
     "name": "stdin",
     "output_type": "stream",
     "text": [
      "Enter a number:  45\n",
      "Enter another number:  0\n"
     ]
    },
    {
     "name": "stdout",
     "output_type": "stream",
     "text": [
      "Error: Division by zero is not allowed.\n"
     ]
    }
   ],
   "source": [
    "try:\n",
    "    num1 = int(input(\"Enter a number: \"))\n",
    "    num2 = int(input(\"Enter another number: \"))\n",
    "    result = num1 / num2\n",
    "except ValueError:\n",
    "    print(\"Invalid input. Please enter a valid number.\")\n",
    "except ZeroDivisionError:\n",
    "    print(\"Error: Division by zero is not allowed.\")\n",
    "else:\n",
    "    print(\"Result:\", result)\n"
   ]
  },
  {
   "cell_type": "code",
   "execution_count": 16,
   "id": "b993143d-dab5-405f-9d4d-dbb9930cbce2",
   "metadata": {},
   "outputs": [],
   "source": [
    "## b "
   ]
  },
  {
   "cell_type": "code",
   "execution_count": 18,
   "id": "dec4b1b9-83c2-4b81-bafa-8af3ffdf0fa2",
   "metadata": {},
   "outputs": [
    {
     "data": {
      "text/plain": [
       "'In Python, the finally statement is used in conjunction with try and except to define a block of code that will be executed regardless of whether an exception occurred or not. The finally block is executed as the last step, regardless of whether an exception was raised, an exception was caught and handled, or no exception occurred.'"
      ]
     },
     "execution_count": 18,
     "metadata": {},
     "output_type": "execute_result"
    }
   ],
   "source": [
    "\"\"\"In Python, the finally statement is used in conjunction with try and except to define a block of code that will be executed regardless of whether an exception occurred or not. The finally block is executed as the last step, regardless of whether an exception was raised, an exception was caught and handled, or no exception occurred.\"\"\""
   ]
  },
  {
   "cell_type": "code",
   "execution_count": 19,
   "id": "67182ae7-e593-4d3b-86f0-ad25b97990a5",
   "metadata": {},
   "outputs": [
    {
     "name": "stdout",
     "output_type": "stream",
     "text": [
      "Error: File not found.\n"
     ]
    },
    {
     "ename": "NameError",
     "evalue": "name 'file' is not defined",
     "output_type": "error",
     "traceback": [
      "\u001b[0;31m---------------------------------------------------------------------------\u001b[0m",
      "\u001b[0;31mNameError\u001b[0m                                 Traceback (most recent call last)",
      "Cell \u001b[0;32mIn[19], line 8\u001b[0m\n\u001b[1;32m      6\u001b[0m     \u001b[38;5;28mprint\u001b[39m(\u001b[38;5;124m\"\u001b[39m\u001b[38;5;124mError: File not found.\u001b[39m\u001b[38;5;124m\"\u001b[39m)\n\u001b[1;32m      7\u001b[0m \u001b[38;5;28;01mfinally\u001b[39;00m:\n\u001b[0;32m----> 8\u001b[0m     \u001b[43mfile\u001b[49m\u001b[38;5;241m.\u001b[39mclose()\n\u001b[1;32m      9\u001b[0m     \u001b[38;5;28mprint\u001b[39m(\u001b[38;5;124m\"\u001b[39m\u001b[38;5;124mFile closed.\u001b[39m\u001b[38;5;124m\"\u001b[39m)\n",
      "\u001b[0;31mNameError\u001b[0m: name 'file' is not defined"
     ]
    }
   ],
   "source": [
    "try:\n",
    "    file = open(\"example.txt\", \"r\")\n",
    "    content = file.read()\n",
    "    print(content)\n",
    "except FileNotFoundError:\n",
    "    print(\"Error: File not found.\")\n",
    "finally:\n",
    "    file.close()\n",
    "    print(\"File closed.\")"
   ]
  },
  {
   "cell_type": "code",
   "execution_count": 20,
   "id": "ea1fbba5-67a3-4b2e-8580-b33641c33c85",
   "metadata": {},
   "outputs": [],
   "source": [
    "##c"
   ]
  },
  {
   "cell_type": "code",
   "execution_count": 22,
   "id": "9b41d21d-ac07-4962-94ba-78d605a2fb04",
   "metadata": {},
   "outputs": [
    {
     "data": {
      "text/plain": [
       "'In Python, the raise statement is used to manually raise an exception. It allows you to generate and throw exceptions based on certain conditions or criteria defined in your code. '"
      ]
     },
     "execution_count": 22,
     "metadata": {},
     "output_type": "execute_result"
    }
   ],
   "source": [
    "\"\"\"In Python, the raise statement is used to manually raise an exception. It allows you to generate and throw exceptions based on certain conditions or criteria defined in your code. \"\"\""
   ]
  },
  {
   "cell_type": "code",
   "execution_count": 23,
   "id": "31303ddc-0611-42ce-89d0-021f272d3aca",
   "metadata": {},
   "outputs": [
    {
     "name": "stdout",
     "output_type": "stream",
     "text": [
      "Cannot calculate square root of a negative number.\n"
     ]
    }
   ],
   "source": [
    "def calculate_square_root(number):\n",
    "    if number < 0:\n",
    "        raise ValueError(\"Cannot calculate square root of a negative number.\")\n",
    "    else:\n",
    "        return number ** 0.5\n",
    "\n",
    "try:\n",
    "    result = calculate_square_root(-9)\n",
    "    print(\"Square root:\", result)\n",
    "except ValueError as ve:\n",
    "    print(ve)"
   ]
  },
  {
   "cell_type": "code",
   "execution_count": 24,
   "id": "67fc267a-f77a-4058-97e9-31d33ec0d798",
   "metadata": {},
   "outputs": [],
   "source": [
    "## 5"
   ]
  },
  {
   "cell_type": "code",
   "execution_count": null,
   "id": "a5ed103d-63b7-4d96-b90d-2bbeeb807a5d",
   "metadata": {},
   "outputs": [],
   "source": [
    "\"\"\"Custom Exception are exception that are not inbult and are defined by the user"
   ]
  }
 ],
 "metadata": {
  "kernelspec": {
   "display_name": "Python 3 (ipykernel)",
   "language": "python",
   "name": "python3"
  },
  "language_info": {
   "codemirror_mode": {
    "name": "ipython",
    "version": 3
   },
   "file_extension": ".py",
   "mimetype": "text/x-python",
   "name": "python",
   "nbconvert_exporter": "python",
   "pygments_lexer": "ipython3",
   "version": "3.10.8"
  }
 },
 "nbformat": 4,
 "nbformat_minor": 5
}
